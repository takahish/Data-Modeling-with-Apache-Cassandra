{
 "cells": [
  {
   "cell_type": "markdown",
   "metadata": {},
   "source": [
    "# Part I. ETL Pipeline for Pre-Processing the Files"
   ]
  },
  {
   "cell_type": "markdown",
   "metadata": {},
   "source": [
    "## PLEASE RUN THE FOLLOWING CODE FOR PRE-PROCESSING THE FILES"
   ]
  },
  {
   "cell_type": "markdown",
   "metadata": {},
   "source": [
    "#### Import Python packages "
   ]
  },
  {
   "cell_type": "code",
   "execution_count": 1,
   "metadata": {},
   "outputs": [],
   "source": [
    "# Import Python packages \n",
    "import pandas as pd\n",
    "import cassandra\n",
    "import re\n",
    "import os\n",
    "import glob\n",
    "import numpy as np\n",
    "import json\n",
    "import csv"
   ]
  },
  {
   "cell_type": "markdown",
   "metadata": {},
   "source": [
    "#### Creating list of filepaths to process original event csv data files"
   ]
  },
  {
   "cell_type": "code",
   "execution_count": 2,
   "metadata": {},
   "outputs": [
    {
     "name": "stdout",
     "output_type": "stream",
     "text": [
      "/home/workspace\n"
     ]
    }
   ],
   "source": [
    "# checking your current working directory\n",
    "print(os.getcwd())\n",
    "\n",
    "# Get your current folder and subfolder event data\n",
    "filepath = os.getcwd() + '/event_data'\n",
    "\n",
    "# Create a for loop to create a list of files and collect each filepath\n",
    "for root, dirs, files in os.walk(filepath):\n",
    "    \n",
    "# join the file path and roots with the subdirectories using glob\n",
    "    file_path_list = glob.glob(os.path.join(root,'*'))\n",
    "    #print(file_path_list)"
   ]
  },
  {
   "cell_type": "markdown",
   "metadata": {},
   "source": [
    "#### Processing the files to create the data file csv that will be used for Apache Casssandra tables"
   ]
  },
  {
   "cell_type": "code",
   "execution_count": 3,
   "metadata": {},
   "outputs": [
    {
     "name": "stdout",
     "output_type": "stream",
     "text": [
      "8056\n"
     ]
    }
   ],
   "source": [
    "# initiating an empty list of rows that will be generated from each file\n",
    "full_data_rows_list = [] \n",
    "    \n",
    "# for every filepath in the file path list \n",
    "for f in file_path_list:\n",
    "\n",
    "# reading csv file \n",
    "    with open(f, 'r', encoding = 'utf8', newline='') as csvfile: \n",
    "        # creating a csv reader object \n",
    "        csvreader = csv.reader(csvfile) \n",
    "        next(csvreader)\n",
    "        \n",
    " # extracting each data row one by one and append it        \n",
    "        for line in csvreader:\n",
    "            #print(line)\n",
    "            full_data_rows_list.append(line) \n",
    "            \n",
    "# uncomment the code below if you would like to get total number of rows \n",
    "print(len(full_data_rows_list))\n",
    "# uncomment the code below if you would like to check to see what the list of event data rows will look like\n",
    "#print(full_data_rows_list)\n",
    "\n",
    "# creating a smaller event data csv file called event_datafile_full csv that will be used to insert data into the \\\n",
    "# Apache Cassandra tables\n",
    "csv.register_dialect('myDialect', quoting=csv.QUOTE_ALL, skipinitialspace=True)\n",
    "\n",
    "with open('event_datafile_new.csv', 'w', encoding = 'utf8', newline='') as f:\n",
    "    writer = csv.writer(f, dialect='myDialect')\n",
    "    writer.writerow(['artist','firstName','gender','itemInSession','lastName','length',\\\n",
    "                'level','location','sessionId','song','userId'])\n",
    "    for row in full_data_rows_list:\n",
    "        if (row[0] == ''):\n",
    "            continue\n",
    "        writer.writerow((row[0], row[2], row[3], row[4], row[5], row[6], row[7], row[8], row[12], row[13], row[16]))"
   ]
  },
  {
   "cell_type": "code",
   "execution_count": 4,
   "metadata": {},
   "outputs": [
    {
     "name": "stdout",
     "output_type": "stream",
     "text": [
      "6821\n"
     ]
    }
   ],
   "source": [
    "# check the number of rows in your csv file\n",
    "with open('event_datafile_new.csv', 'r', encoding = 'utf8') as f:\n",
    "    print(sum(1 for line in f))"
   ]
  },
  {
   "cell_type": "markdown",
   "metadata": {},
   "source": [
    "# Part II. Complete the Apache Cassandra coding portion of your project. \n",
    "\n",
    "## Now you are ready to work with the CSV file titled <font color=red>event_datafile_new.csv</font>, located within the Workspace directory.  The event_datafile_new.csv contains the following columns: \n",
    "- artist \n",
    "- firstName of user\n",
    "- gender of user\n",
    "- item number in session\n",
    "- last name of user\n",
    "- length of the song\n",
    "- level (paid or free song)\n",
    "- location of the user\n",
    "- sessionId\n",
    "- song title\n",
    "- userId\n",
    "\n",
    "The image below is a screenshot of what the denormalized data should appear like in the <font color=red>**event_datafile_new.csv**</font> after the code above is run:<br>\n",
    "\n",
    "<img src=\"images/image_event_datafile_new.jpg\">"
   ]
  },
  {
   "cell_type": "markdown",
   "metadata": {},
   "source": [
    "## Begin writing your Apache Cassandra code in the cells below"
   ]
  },
  {
   "cell_type": "markdown",
   "metadata": {},
   "source": [
    "#### Creating a Cluster"
   ]
  },
  {
   "cell_type": "code",
   "execution_count": 5,
   "metadata": {},
   "outputs": [],
   "source": [
    "# This should make a connection to a Cassandra instance your local machine \n",
    "# (127.0.0.1)\n",
    "\n",
    "from cassandra.cluster import Cluster\n",
    "cluster = Cluster()\n",
    "\n",
    "# To establish connection and begin executing queries, need a session\n",
    "session = cluster.connect()"
   ]
  },
  {
   "cell_type": "markdown",
   "metadata": {},
   "source": [
    "#### Create Keyspace"
   ]
  },
  {
   "cell_type": "code",
   "execution_count": 6,
   "metadata": {},
   "outputs": [
    {
     "name": "stdout",
     "output_type": "stream",
     "text": [
      "Success to create keyspace.\n"
     ]
    }
   ],
   "source": [
    "# TO-DO: Create a Keyspace \n",
    "query = \"\"\"\n",
    "CREATE KEYSPACE IF NOT EXISTS user_activity\n",
    "WITH REPLICATION = { 'class' : 'SimpleStrategy', 'replication_factor' : 1 }\n",
    "\"\"\"\n",
    "\n",
    "try:\n",
    "    session.execute(query)\n",
    "except Exception as e:\n",
    "    print(e)\n",
    "else:\n",
    "    print(\"Success to create keyspace.\")"
   ]
  },
  {
   "cell_type": "markdown",
   "metadata": {},
   "source": [
    "#### Set Keyspace"
   ]
  },
  {
   "cell_type": "code",
   "execution_count": 7,
   "metadata": {},
   "outputs": [
    {
     "name": "stdout",
     "output_type": "stream",
     "text": [
      "Success to set keyspace.\n"
     ]
    }
   ],
   "source": [
    "# TO-DO: Set KEYSPACE to the keyspace specified above\n",
    "try:\n",
    "    session.set_keyspace('user_activity')\n",
    "except Exception as e:\n",
    "    print(e)\n",
    "else:\n",
    "    print(\"Success to set keyspace.\")"
   ]
  },
  {
   "cell_type": "markdown",
   "metadata": {},
   "source": [
    "### Now we need to create tables to run the following queries. Remember, with Apache Cassandra you model the database tables on the queries you want to run."
   ]
  },
  {
   "cell_type": "markdown",
   "metadata": {},
   "source": [
    "## DML functions\n",
    "\n",
    "- drop_table: dropping table.\n",
    "- create_table: creating table.\n",
    "- insert_into_table: inserting user activity into table.\n",
    "- select_from_table: select data from table."
   ]
  },
  {
   "cell_type": "code",
   "execution_count": 8,
   "metadata": {},
   "outputs": [],
   "source": [
    "def drop_table(drop_query):\n",
    "    \"\"\"Drop table.\n",
    "    \n",
    "    Args:\n",
    "        drop_query str, query to drop table\n",
    "    \"\"\"\n",
    "    try:\n",
    "        session.execute(drop_query)\n",
    "    except Exception as e:\n",
    "        print(e)\n",
    "    else:\n",
    "        print(\"Success to drop table.\")"
   ]
  },
  {
   "cell_type": "code",
   "execution_count": 9,
   "metadata": {},
   "outputs": [],
   "source": [
    "def create_table(create_query, drop_query=None):\n",
    "    \"\"\"Create table. If dropping table is needed, drop table beforehand.\n",
    "\n",
    "    Args:\n",
    "        create_query: str, query to create table.\n",
    "        drop_query: str, query to drop table (default None).\n",
    "    \"\"\"\n",
    "    # Execute drop_table_query if drop_table_query is not None.\n",
    "    if drop_query is not None:\n",
    "        drop_table(drop_query)\n",
    "\n",
    "    # Execute create_table_query\n",
    "    try:\n",
    "        session.execute(create_query)\n",
    "    except Exception as e:\n",
    "        print(e)\n",
    "    else:\n",
    "        print(\"Success to create table.\")"
   ]
  },
  {
   "cell_type": "code",
   "execution_count": 10,
   "metadata": {},
   "outputs": [],
   "source": [
    "def insert_into_table(insert_query, index_list, type_list):\n",
    "    \"\"\"Insert data into table. A number of inserting columns must be\n",
    "    the same as the length of index_list.\n",
    "    \n",
    "    Args:\n",
    "        insert_query: str, query to insert data into table.\n",
    "        index_list: list, list of indexes of data inserted into table.\n",
    "        type_list: list, list of types of inserted data.\n",
    "    \"\"\"\n",
    "    # We have provided part of the code to set up the CSV file. Please complete the Apache Cassandra code below#\n",
    "    file = 'event_datafile_new.csv'\n",
    "\n",
    "    with open(file, encoding = 'utf8') as f:\n",
    "        csvreader = csv.reader(f)\n",
    "        next(csvreader) # skip header\n",
    "        for line in csvreader:\n",
    "            ## TO-DO: Assign which column element should be assigned for each column in the INSERT statement.\n",
    "            ## For e.g., to INSERT artist_name and user first_name, you would change the code below to `line[0], line[1]`\n",
    "            try:\n",
    "                session.execute(insert_query, (type_list[i](line[idx]) for i, idx in enumerate(index_list)))\n",
    "            except Exception as e:\n",
    "                print(e)\n",
    "        \n",
    "        print(\"Success to insert into table.\")"
   ]
  },
  {
   "cell_type": "code",
   "execution_count": 11,
   "metadata": {},
   "outputs": [],
   "source": [
    "def select_from_table(select_query, print_format):\n",
    "    \"\"\"Select data from table. A number of results of select query must be\n",
    "    the same as the length of fields indicated by print_format.\n",
    "    \n",
    "    Args:\n",
    "        select_query: str, query to select data from table.\n",
    "        print_format: str, print format for results.\n",
    "    \"\"\"\n",
    "    try:\n",
    "        rows = session.execute(select_query)\n",
    "        for r in rows:\n",
    "            print (print_format.format(*list(r)))\n",
    "    except Exception as e:\n",
    "        print(e)\n",
    "    else:\n",
    "        print(\"Success to select for table.\")"
   ]
  },
  {
   "cell_type": "markdown",
   "metadata": {},
   "source": [
    "## Create queries to ask the following three questions of the data\n",
    "\n",
    "### 1. Give me the artist, song title and song's length in the music app history that was heard during  sessionId = 338, and itemInSession  = 4\n",
    "\n",
    "To select specific music app history by using session_id, Primary key (partition key) is set to session_id, and clustering column is set to user_id and item_in_session because data must become uniqe by user and item in session.\n",
    "\n",
    "- TABLE\n",
    "    - session_id int\n",
    "    - user_id\n",
    "    - item_in_session int\n",
    "    - artist_text\n",
    "    - song text\n",
    "    - length float\n",
    "- PRIMARY KEY\n",
    "    - session_id\n",
    "- CLUSTERING CLUMN\n",
    "    - user_id\n",
    "    - item_in_session\n",
    "\n",
    "### 2. Give me only the following: name of artist, song (sorted by itemInSession) and user (first and last name) for userid = 10, sessionid = 182\n",
    "\n",
    "To select spesific user activity by using user_id and session_id, Primary key (partition key) is set to (user_id, session_id). Clustering columns must be set to item_in_session because data is sorted by item_in_session.\n",
    "\n",
    "- TABLE\n",
    "    - user_id int\n",
    "    - session_id int\n",
    "    - item_in_session int\n",
    "    - artist text\n",
    "    - song text\n",
    "    - first_name text\n",
    "    - last_name text \n",
    "- PRIMARY KEY\n",
    "    - user_id\n",
    "    - session_id\n",
    "- CLUSTERING COLUMN\n",
    "    - item_in_session\n",
    "\n",
    "### 3. Give me every user name (first and last) in my music app history who listened to the song 'All Hands Against His Own'\n",
    "\n",
    "To select spesific user by using song, Primary key (partition key) is set to song. Clustering column is user_id because data must become uniqe by user.\n",
    "\n",
    "- TABLE \n",
    "    - song text\n",
    "    - user_id int\n",
    "    - first_name text\n",
    "    - last_name text\n",
    "- PRIMARY KEY\n",
    "    - song\n",
    "- CLUSTERING COLUMN\n",
    "    - user_id"
   ]
  },
  {
   "cell_type": "code",
   "execution_count": 12,
   "metadata": {},
   "outputs": [
    {
     "name": "stdout",
     "output_type": "stream",
     "text": [
      "Success to drop table.\n",
      "Success to create table.\n",
      "Success to insert into table.\n"
     ]
    }
   ],
   "source": [
    "## TO-DO: Query 1:  Give me the artist, song title and song's length in the music app history that was heard during \\\n",
    "## sessionId = 338, and itemInSession = 4\n",
    "\n",
    "##############################\n",
    "# Create table.\n",
    "##############################\n",
    "drop_query = \"DROP TABLE IF EXISTS music_app_history\"\n",
    "\n",
    "create_query = \"\"\"\n",
    "CREATE TABLE IF NOT EXISTS music_app_history (\n",
    "    session_id int\n",
    "    ,user_id int\n",
    "    ,item_in_session int\n",
    "    ,artist text\n",
    "    ,song text\n",
    "    ,length float\n",
    "    ,PRIMARY KEY (session_id, item_in_session)\n",
    ")\n",
    "\"\"\"\n",
    "\n",
    "create_table(create_query, drop_query)\n",
    "\n",
    "##############################\n",
    "# Insert into table.\n",
    "##############################\n",
    "insert_query = \"\"\"\n",
    "INSERT INTO music_app_history (\n",
    "    session_id\n",
    "    ,user_id\n",
    "    ,item_in_session\n",
    "    ,artist\n",
    "    ,song\n",
    "    ,length\n",
    ")\n",
    "VALUES (%s, %s, %s, %s, %s, %s)\n",
    "\"\"\"\n",
    "\n",
    "index_list = [8, 10, 3, 0, 9, 5]\n",
    "type_list = [int, int, int, str, str, float]\n",
    "\n",
    "insert_into_table(insert_query, index_list, type_list)"
   ]
  },
  {
   "cell_type": "markdown",
   "metadata": {},
   "source": [
    "#### Do a SELECT to verify that the data have been inserted into each table"
   ]
  },
  {
   "cell_type": "code",
   "execution_count": 13,
   "metadata": {
    "scrolled": true
   },
   "outputs": [
    {
     "name": "stdout",
     "output_type": "stream",
     "text": [
      "the artist: Faithless, song title: Music Matters (Mark Knight Dub), song's length: 495.30731201171875.\n",
      "Success to select for table.\n"
     ]
    }
   ],
   "source": [
    "## TO-DO: Add in the SELECT statement to verify the data was entered into the table\n",
    "select_query = \"\"\"\n",
    "SELECT\n",
    "    artist\n",
    "    ,song\n",
    "    ,length\n",
    "FROM\n",
    "    music_app_history\n",
    "WHERE\n",
    "    session_id=338\n",
    "    AND item_in_session=4\n",
    "\"\"\"\n",
    "\n",
    "print_format = \"the artist: {}, song title: {}, song's length: {}.\"\n",
    "\n",
    "select_from_table(select_query, print_format)"
   ]
  },
  {
   "cell_type": "markdown",
   "metadata": {},
   "source": [
    "### COPY AND REPEAT THE ABOVE THREE CELLS FOR EACH OF THE THREE QUESTIONS"
   ]
  },
  {
   "cell_type": "code",
   "execution_count": 14,
   "metadata": {},
   "outputs": [
    {
     "name": "stdout",
     "output_type": "stream",
     "text": [
      "Success to drop table.\n",
      "Success to create table.\n",
      "Success to insert into table.\n"
     ]
    }
   ],
   "source": [
    "## TO-DO: Query 2: Give me only the following: name of artist, song (sorted by itemInSession) and user (first and last name)\\\n",
    "## for userid = 10, sessionid = 182\n",
    "\n",
    "##############################\n",
    "# Create table.\n",
    "##############################\n",
    "drop_query = \"DROP TABLE IF EXISTS user_activity\"\n",
    "\n",
    "create_query = \"\"\"\n",
    "CREATE TABLE IF NOT EXISTS user_activity (\n",
    "    user_id int\n",
    "    ,session_id int\n",
    "    ,item_in_session int\n",
    "    ,artist text\n",
    "    ,song text\n",
    "    ,first_name text\n",
    "    ,last_name text\n",
    "    ,PRIMARY KEY ((user_id, session_id), item_in_session)\n",
    ")\n",
    "WITH CLUSTERING ORDER BY (item_in_session DESC)\n",
    "\"\"\"\n",
    "\n",
    "create_table(create_query, drop_query)\n",
    "\n",
    "##############################\n",
    "# Insert into table.\n",
    "##############################\n",
    "insert_query = \"\"\"\n",
    "INSERT INTO user_activity (\n",
    "    user_id\n",
    "    ,session_id\n",
    "    ,item_in_session\n",
    "    ,artist\n",
    "    ,song\n",
    "    ,first_name\n",
    "    ,last_name\n",
    ")\n",
    "VALUES (%s, %s, %s, %s, %s, %s, %s)\n",
    "\"\"\"\n",
    "\n",
    "index_list = [10, 8, 3, 0, 9, 1, 4]\n",
    "type_list = [int, int, int, str, str, str, str]\n",
    "\n",
    "insert_into_table(insert_query, index_list, type_list)   "
   ]
  },
  {
   "cell_type": "code",
   "execution_count": 15,
   "metadata": {},
   "outputs": [
    {
     "name": "stdout",
     "output_type": "stream",
     "text": [
      "the artist: Lonnie Gordon, song title: Catch You Baby (Steve Pitron & Max Sanna Radio Edit), first name: Sylvie, last name: Cruz.\n",
      "the artist: Sebastien Tellier, song title: Kilometer, first name: Sylvie, last name: Cruz.\n",
      "the artist: Three Drives, song title: Greece 2000, first name: Sylvie, last name: Cruz.\n",
      "the artist: Down To The Bone, song title: Keep On Keepin' On, first name: Sylvie, last name: Cruz.\n",
      "Success to select for table.\n"
     ]
    }
   ],
   "source": [
    "## TO-DO: Add in the SELECT statement to verify the data was entered into the table\n",
    "select_query = \"\"\"\n",
    "SELECT\n",
    "    artist\n",
    "    ,song\n",
    "    ,first_name\n",
    "    ,last_name\n",
    "FROM\n",
    "    user_activity\n",
    "WHERE\n",
    "    user_id=10\n",
    "    AND session_id=182\n",
    "\"\"\"\n",
    "\n",
    "print_format = \"the artist: {}, song title: {}, first name: {}, last name: {}.\"\n",
    "\n",
    "select_from_table(select_query, print_format)"
   ]
  },
  {
   "cell_type": "code",
   "execution_count": 16,
   "metadata": {},
   "outputs": [
    {
     "name": "stdout",
     "output_type": "stream",
     "text": [
      "Success to drop table.\n",
      "Success to create table.\n",
      "Success to insert into table.\n"
     ]
    }
   ],
   "source": [
    "## TO-DO: Query 3: Give me every user name (first and last) in my music app history who listened to the song 'All Hands Against His Own'\n",
    "\n",
    "##############################\n",
    "# Create table.\n",
    "##############################\n",
    "drop_query = \"DROP TABLE IF EXISTS user_listening_song\"\n",
    "\n",
    "create_query = \"\"\"\n",
    "CREATE TABLE IF NOT EXISTS user_listening_song (\n",
    "    song text\n",
    "    ,user_id int\n",
    "    ,first_name text\n",
    "    ,last_name text\n",
    "    ,PRIMARY KEY (song, user_id)\n",
    ")\n",
    "\"\"\"\n",
    "\n",
    "create_table(create_query, drop_query)\n",
    "\n",
    "##############################\n",
    "# Insert into table.\n",
    "##############################\n",
    "insert_query = \"\"\"\n",
    "INSERT INTO user_listening_song (\n",
    "   song\n",
    "   ,user_id\n",
    "   ,first_name\n",
    "   ,last_name\n",
    ")\n",
    "VALUES (%s, %s, %s, %s)\n",
    "\"\"\"\n",
    "\n",
    "index_list = [9, 10, 1, 4]\n",
    "type_list = [str, int, str, str]\n",
    "\n",
    "insert_into_table(insert_query, index_list, type_list)"
   ]
  },
  {
   "cell_type": "code",
   "execution_count": 17,
   "metadata": {},
   "outputs": [
    {
     "name": "stdout",
     "output_type": "stream",
     "text": [
      "first name: Jacqueline, last name: Lynch.\n",
      "first name: Tegan, last name: Levine.\n",
      "first name: Sara, last name: Johnson.\n",
      "Success to select for table.\n"
     ]
    }
   ],
   "source": [
    "## TO-DO: Add in the SELECT statement to verify the data was entered into the table\n",
    "select_query = \"\"\"\n",
    "SELECT\n",
    "    first_name\n",
    "    ,last_name\n",
    "FROM\n",
    "    user_listening_song\n",
    "WHERE\n",
    "    song='All Hands Against His Own'\n",
    "\"\"\"\n",
    "\n",
    "print_format = \"first name: {}, last name: {}.\"\n",
    "\n",
    "select_from_table(select_query, print_format)"
   ]
  },
  {
   "cell_type": "markdown",
   "metadata": {},
   "source": [
    "### Drop the tables before closing out the sessions"
   ]
  },
  {
   "cell_type": "code",
   "execution_count": 18,
   "metadata": {},
   "outputs": [
    {
     "name": "stdout",
     "output_type": "stream",
     "text": [
      "Success to drop table.\n",
      "Success to drop table.\n",
      "Success to drop table.\n"
     ]
    }
   ],
   "source": [
    "## TO-DO: Drop the table before closing out the sessions\n",
    "drop_table(\"DROP TABLE IF EXISTS music_app_history\")\n",
    "drop_table(\"DROP TABLE IF EXISTS user_activity\")\n",
    "drop_table(\"DROP TABLE IF EXISTS user_listening_song\")"
   ]
  },
  {
   "cell_type": "markdown",
   "metadata": {},
   "source": [
    "### Close the session and cluster connection¶"
   ]
  },
  {
   "cell_type": "code",
   "execution_count": 19,
   "metadata": {},
   "outputs": [],
   "source": [
    "session.shutdown()\n",
    "cluster.shutdown()"
   ]
  }
 ],
 "metadata": {
  "kernelspec": {
   "display_name": "Python 3",
   "language": "python",
   "name": "python3"
  },
  "language_info": {
   "codemirror_mode": {
    "name": "ipython",
    "version": 3
   },
   "file_extension": ".py",
   "mimetype": "text/x-python",
   "name": "python",
   "nbconvert_exporter": "python",
   "pygments_lexer": "ipython3",
   "version": "3.6.3"
  }
 },
 "nbformat": 4,
 "nbformat_minor": 2
}
